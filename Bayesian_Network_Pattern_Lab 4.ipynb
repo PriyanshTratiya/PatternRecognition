{
  "nbformat": 4,
  "nbformat_minor": 0,
  "metadata": {
    "colab": {
      "provenance": []
    },
    "kernelspec": {
      "name": "python3",
      "display_name": "Python 3"
    },
    "language_info": {
      "name": "python"
    }
  },
  "cells": [
    {
      "cell_type": "code",
      "source": [
        "!pip install pgmpy"
      ],
      "metadata": {
        "colab": {
          "base_uri": "https://localhost:8080/"
        },
        "id": "dyLBKSNKb8_X",
        "outputId": "7530f692-d7fe-45b1-c58a-932688179a75"
      },
      "execution_count": null,
      "outputs": [
        {
          "output_type": "stream",
          "name": "stdout",
          "text": [
            "Looking in indexes: https://pypi.org/simple, https://us-python.pkg.dev/colab-wheels/public/simple/\n",
            "Collecting pgmpy\n",
            "  Downloading pgmpy-0.1.20-py3-none-any.whl (1.9 MB)\n",
            "\u001b[K     |████████████████████████████████| 1.9 MB 23.9 MB/s \n",
            "\u001b[?25hRequirement already satisfied: numpy in /usr/local/lib/python3.7/dist-packages (from pgmpy) (1.21.6)\n",
            "Requirement already satisfied: pandas in /usr/local/lib/python3.7/dist-packages (from pgmpy) (1.3.5)\n",
            "Requirement already satisfied: torch in /usr/local/lib/python3.7/dist-packages (from pgmpy) (1.12.1+cu113)\n",
            "Requirement already satisfied: joblib in /usr/local/lib/python3.7/dist-packages (from pgmpy) (1.2.0)\n",
            "Requirement already satisfied: networkx in /usr/local/lib/python3.7/dist-packages (from pgmpy) (2.6.3)\n",
            "Requirement already satisfied: scikit-learn in /usr/local/lib/python3.7/dist-packages (from pgmpy) (1.0.2)\n",
            "Requirement already satisfied: statsmodels in /usr/local/lib/python3.7/dist-packages (from pgmpy) (0.12.2)\n",
            "Requirement already satisfied: opt-einsum in /usr/local/lib/python3.7/dist-packages (from pgmpy) (3.3.0)\n",
            "Requirement already satisfied: pyparsing in /usr/local/lib/python3.7/dist-packages (from pgmpy) (3.0.9)\n",
            "Requirement already satisfied: scipy in /usr/local/lib/python3.7/dist-packages (from pgmpy) (1.7.3)\n",
            "Requirement already satisfied: tqdm in /usr/local/lib/python3.7/dist-packages (from pgmpy) (4.64.1)\n",
            "Requirement already satisfied: pytz>=2017.3 in /usr/local/lib/python3.7/dist-packages (from pandas->pgmpy) (2022.5)\n",
            "Requirement already satisfied: python-dateutil>=2.7.3 in /usr/local/lib/python3.7/dist-packages (from pandas->pgmpy) (2.8.2)\n",
            "Requirement already satisfied: six>=1.5 in /usr/local/lib/python3.7/dist-packages (from python-dateutil>=2.7.3->pandas->pgmpy) (1.15.0)\n",
            "Requirement already satisfied: threadpoolctl>=2.0.0 in /usr/local/lib/python3.7/dist-packages (from scikit-learn->pgmpy) (3.1.0)\n",
            "Requirement already satisfied: patsy>=0.5 in /usr/local/lib/python3.7/dist-packages (from statsmodels->pgmpy) (0.5.3)\n",
            "Requirement already satisfied: typing-extensions in /usr/local/lib/python3.7/dist-packages (from torch->pgmpy) (4.1.1)\n",
            "Installing collected packages: pgmpy\n",
            "Successfully installed pgmpy-0.1.20\n"
          ]
        }
      ]
    },
    {
      "cell_type": "code",
      "execution_count": null,
      "metadata": {
        "id": "6tyhunlIbMLw"
      },
      "outputs": [],
      "source": [
        "from pgmpy.models import BayesianModel\n",
        "from pgmpy.factors.discrete import TabularCPD\n",
        "from pgmpy.inference import VariableElimination"
      ]
    },
    {
      "cell_type": "code",
      "source": [
        "model = BayesianModel([('D', 'G'), ('I', 'G'), ('G', 'L'), ('I', 'S')])"
      ],
      "metadata": {
        "colab": {
          "base_uri": "https://localhost:8080/"
        },
        "id": "lHM-WIeocBG0",
        "outputId": "c9a00196-bbce-4403-eb60-dd40c2afc4b8"
      },
      "execution_count": null,
      "outputs": [
        {
          "output_type": "stream",
          "name": "stderr",
          "text": [
            "/usr/local/lib/python3.7/dist-packages/pgmpy/models/BayesianModel.py:10: FutureWarning: BayesianModel has been renamed to BayesianNetwork. Please use BayesianNetwork class, BayesianModel will be removed in future.\n",
            "  FutureWarning,\n"
          ]
        }
      ]
    },
    {
      "cell_type": "code",
      "source": [
        "# Creating CPD for indipendent variables\n",
        "cpd_d = TabularCPD(variable='D', variable_card=2, values=[[0.6], [0.4]])\n",
        "cpd_i = TabularCPD(variable='I', variable_card=2, values=[[0.7], [0.3]])"
      ],
      "metadata": {
        "id": "xfZmRnk6cKkd"
      },
      "execution_count": null,
      "outputs": []
    },
    {
      "cell_type": "code",
      "source": [
        "# Creating CPDs for dependent variables.\n",
        "cpd_g = TabularCPD(variable='G', variable_card=3,\n",
        "                   values=[[0.3, 0.05, 0.9,  0.5],\n",
        "                           [0.4, 0.25, 0.08, 0.3],\n",
        "                           [0.3, 0.7,  0.02, 0.2]],\n",
        "                  evidence=['I', 'D'],\n",
        "                  evidence_card=[2, 2])\n",
        "\n",
        "cpd_l = TabularCPD(variable='L', variable_card=2,\n",
        "                   values=[[0.1, 0.4, 0.99],\n",
        "                           [0.9, 0.6, 0.01]],\n",
        "                   evidence=['G'],\n",
        "                   evidence_card=[3])\n",
        "\n",
        "cpd_s = TabularCPD(variable='S', variable_card=2,\n",
        "                   values=[[0.95, 0.2],\n",
        "                           [0.05, 0.8]],\n",
        "                   evidence=['I'],\n",
        "                   evidence_card=[2])"
      ],
      "metadata": {
        "id": "dOOW1sUrcdpb"
      },
      "execution_count": null,
      "outputs": []
    },
    {
      "cell_type": "code",
      "source": [
        "model.add_cpds(cpd_d, cpd_i, cpd_g, cpd_l, cpd_s)"
      ],
      "metadata": {
        "id": "WPWT9fnXc0aA"
      },
      "execution_count": null,
      "outputs": []
    },
    {
      "cell_type": "code",
      "source": [
        "model.check_model()"
      ],
      "metadata": {
        "colab": {
          "base_uri": "https://localhost:8080/"
        },
        "id": "VivC5YPNdBF8",
        "outputId": "e061a2cd-2413-4877-e82b-94f9b931a612"
      },
      "execution_count": null,
      "outputs": [
        {
          "output_type": "execute_result",
          "data": {
            "text/plain": [
              "True"
            ]
          },
          "metadata": {},
          "execution_count": 9
        }
      ]
    },
    {
      "cell_type": "code",
      "source": [
        "print(cpd_g)"
      ],
      "metadata": {
        "id": "68mBQkIrdKDo",
        "outputId": "e5af7716-fc4f-4c2e-a62b-b8d2f8662ef2",
        "colab": {
          "base_uri": "https://localhost:8080/"
        }
      },
      "execution_count": null,
      "outputs": [
        {
          "output_type": "stream",
          "name": "stdout",
          "text": [
            "+------+------+------+------+------+\n",
            "| I    | I(0) | I(0) | I(1) | I(1) |\n",
            "+------+------+------+------+------+\n",
            "| D    | D(0) | D(1) | D(0) | D(1) |\n",
            "+------+------+------+------+------+\n",
            "| G(0) | 0.3  | 0.05 | 0.9  | 0.5  |\n",
            "+------+------+------+------+------+\n",
            "| G(1) | 0.4  | 0.25 | 0.08 | 0.3  |\n",
            "+------+------+------+------+------+\n",
            "| G(2) | 0.3  | 0.7  | 0.02 | 0.2  |\n",
            "+------+------+------+------+------+\n"
          ]
        }
      ]
    },
    {
      "cell_type": "code",
      "source": [
        "infer = VariableElimination(model)\n",
        "g_dist = infer.query(['L'], evidence={'I': 1})\n",
        "print(g_dist)"
      ],
      "metadata": {
        "colab": {
          "base_uri": "https://localhost:8080/"
        },
        "id": "jBWaFDhujTHA",
        "outputId": "0403e36d-2c58-4170-add2-b6e3730a23e3"
      },
      "execution_count": null,
      "outputs": [
        {
          "output_type": "stream",
          "name": "stdout",
          "text": [
            "+------+----------+\n",
            "| L    |   phi(L) |\n",
            "+======+==========+\n",
            "| L(0) |   0.2323 |\n",
            "+------+----------+\n",
            "| L(1) |   0.7677 |\n",
            "+------+----------+\n"
          ]
        }
      ]
    }
  ]
}