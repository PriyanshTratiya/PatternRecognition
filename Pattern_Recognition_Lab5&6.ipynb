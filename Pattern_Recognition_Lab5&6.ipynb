{
  "nbformat": 4,
  "nbformat_minor": 0,
  "metadata": {
    "colab": {
      "provenance": []
    },
    "kernelspec": {
      "name": "python3",
      "display_name": "Python 3"
    },
    "language_info": {
      "name": "python"
    }
  },
  "cells": [
    {
      "cell_type": "markdown",
      "source": [
        "# Decision Tree - Lab"
      ],
      "metadata": {
        "id": "Tkg6rJbqFtd-"
      }
    },
    {
      "cell_type": "code",
      "execution_count": null,
      "metadata": {
        "id": "L07MpQqKBg09"
      },
      "outputs": [],
      "source": [
        "import pandas as pd\n",
        "from sklearn.tree import DecisionTreeClassifier\n",
        "from sklearn.ensemble import RandomForestClassifier\n",
        "from sklearn.model_selection import train_test_split\n",
        "from sklearn import metrics"
      ]
    },
    {
      "cell_type": "code",
      "source": [
        "def getAccuracy(data, target, depth=15):\n",
        "  x = data.drop(columns=target)\n",
        "  y = data[target]\n",
        "  X_train, test_x, y_train, test_lab = train_test_split(x, y, test_size = 0.2, random_state = 42)\n",
        "  clf = DecisionTreeClassifier(random_state = 42, max_depth=depth)\n",
        "  clf.fit(X_train, y_train)\n",
        "  test_pred_decision_tree = clf.predict(test_x)\n",
        "  print(metrics.accuracy_score(test_lab, test_pred_decision_tree))\n",
        "  print(clf.tree_.max_depth)"
      ],
      "metadata": {
        "id": "sHTQmcmWGuxQ"
      },
      "execution_count": null,
      "outputs": []
    },
    {
      "cell_type": "code",
      "source": [
        "d = [\"heart.csv\", \"accent.csv\", \"glass.csv\", \"rice.csv\", \"Iris.csv\"]\n",
        "c = [\"target\", \"language\", \"Type\", \"Class\", \"Species\"]\n",
        "\n",
        "for i in range(0, len(d)):\n",
        "  data = pd.read_csv(d[i])\n",
        "  getAccuracy(data, c[i]);\n",
        "  print(\"-------------------------\")\n"
      ],
      "metadata": {
        "colab": {
          "base_uri": "https://localhost:8080/"
        },
        "id": "1l3JoZVEJiPH",
        "outputId": "429cf041-409c-427c-fdf4-c6afe8cda580"
      },
      "execution_count": null,
      "outputs": [
        {
          "output_type": "stream",
          "name": "stdout",
          "text": [
            "0.9853658536585366\n",
            "10\n",
            "-------------------------\n",
            "0.6060606060606061\n",
            "13\n",
            "-------------------------\n",
            "0.7209302325581395\n",
            "13\n",
            "-------------------------\n",
            "1.0\n",
            "4\n",
            "-------------------------\n",
            "1.0\n",
            "2\n",
            "-------------------------\n"
          ]
        }
      ]
    },
    {
      "cell_type": "code",
      "source": [
        "d = [\"heart.csv\", \"accent.csv\", \"glass.csv\", \"rice.csv\", \"Iris.csv\"]\n",
        "c = [\"target\", \"language\", \"Type\", \"Class\", \"Species\"]\n",
        "dps = [8, 11, 2, 1]\n",
        "\n",
        "for j in dps: \n",
        "  for i in range(0, len(d)):\n",
        "    data = pd.read_csv(d[i])\n",
        "    getAccuracy(data, c[i], j);\n",
        "    print(\"-------------------------\")\n",
        "  print()\n",
        "  print(\"+++++++++++++++++++++++++++++++\")\n",
        "  print()"
      ],
      "metadata": {
        "colab": {
          "base_uri": "https://localhost:8080/"
        },
        "id": "26zSKhmLZnj4",
        "outputId": "2bd96e45-7c5f-4c8f-a4c5-5d085f63cb37"
      },
      "execution_count": null,
      "outputs": [
        {
          "output_type": "stream",
          "name": "stdout",
          "text": [
            "0.975609756097561\n",
            "8\n",
            "-------------------------\n",
            "0.696969696969697\n",
            "8\n",
            "-------------------------\n",
            "0.7674418604651163\n",
            "8\n",
            "-------------------------\n",
            "1.0\n",
            "4\n",
            "-------------------------\n",
            "1.0\n",
            "2\n",
            "-------------------------\n",
            "\n",
            "+++++++++++++++++++++++++++++++\n",
            "\n",
            "0.9853658536585366\n",
            "10\n",
            "-------------------------\n",
            "0.696969696969697\n",
            "11\n",
            "-------------------------\n",
            "0.7906976744186046\n",
            "11\n",
            "-------------------------\n",
            "1.0\n",
            "4\n",
            "-------------------------\n",
            "1.0\n",
            "2\n",
            "-------------------------\n",
            "\n",
            "+++++++++++++++++++++++++++++++\n",
            "\n",
            "0.6780487804878049\n",
            "2\n",
            "-------------------------\n",
            "0.5454545454545454\n",
            "2\n",
            "-------------------------\n",
            "0.6511627906976745\n",
            "2\n",
            "-------------------------\n",
            "1.0\n",
            "2\n",
            "-------------------------\n",
            "1.0\n",
            "2\n",
            "-------------------------\n",
            "\n",
            "+++++++++++++++++++++++++++++++\n",
            "\n",
            "0.751219512195122\n",
            "1\n",
            "-------------------------\n",
            "0.5303030303030303\n",
            "1\n",
            "-------------------------\n",
            "0.5116279069767442\n",
            "1\n",
            "-------------------------\n",
            "0.9859774539455596\n",
            "1\n",
            "-------------------------\n",
            "0.6333333333333333\n",
            "1\n",
            "-------------------------\n",
            "\n",
            "+++++++++++++++++++++++++++++++\n",
            "\n"
          ]
        }
      ]
    },
    {
      "cell_type": "code",
      "source": [
        "def getAccuracyRF(data, target, tree=100):\n",
        "  x = data.drop(columns=target)\n",
        "  y = data[target]\n",
        "  X_train, test_x, y_train, test_lab = train_test_split(x, y, test_size = 0.2, random_state = 42)\n",
        "  clf = RandomForestClassifier(random_state = 42, n_estimators=tree)\n",
        "  clf.fit(X_train, y_train)\n",
        "  test_pred_random_forest = clf.predict(test_x)\n",
        "  print(metrics.accuracy_score(test_lab, test_pred_random_forest))\n",
        "  # print(clf.tree_.max_depth)"
      ],
      "metadata": {
        "id": "cLamcQ8TagVd"
      },
      "execution_count": null,
      "outputs": []
    },
    {
      "cell_type": "code",
      "source": [
        "d = [\"heart.csv\", \"accent.csv\", \"glass.csv\", \"rice.csv\", \"Iris.csv\"]\n",
        "c = [\"target\", \"language\", \"Type\", \"Class\", \"Species\"]\n",
        "t = [20, 25, 50, 75, 100]\n",
        "for j in t:\n",
        "  for i in range(0, len(d)):\n",
        "    data = pd.read_csv(d[i])\n",
        "    getAccuracyRF(data, c[i], j);\n",
        "    print(\"-------------------------\")\n",
        "  print()\n",
        "  print(\"+++++++++++++++++++++++++++++++\")\n",
        "  print()"
      ],
      "metadata": {
        "colab": {
          "base_uri": "https://localhost:8080/"
        },
        "id": "6iDnkgTYcrn8",
        "outputId": "544fdebf-835e-4912-b9e2-2e1a58f0bc5a"
      },
      "execution_count": null,
      "outputs": [
        {
          "output_type": "stream",
          "name": "stdout",
          "text": [
            "0.9853658536585366\n",
            "-------------------------\n",
            "0.8181818181818182\n",
            "-------------------------\n",
            "0.813953488372093\n",
            "-------------------------\n",
            "1.0\n",
            "-------------------------\n",
            "1.0\n",
            "-------------------------\n",
            "\n",
            "+++++++++++++++++++++++++++++++\n",
            "\n",
            "0.9853658536585366\n",
            "-------------------------\n",
            "0.8636363636363636\n",
            "-------------------------\n",
            "0.7674418604651163\n",
            "-------------------------\n",
            "1.0\n",
            "-------------------------\n",
            "1.0\n",
            "-------------------------\n",
            "\n",
            "+++++++++++++++++++++++++++++++\n",
            "\n",
            "0.9853658536585366\n",
            "-------------------------\n",
            "0.7727272727272727\n",
            "-------------------------\n",
            "0.8604651162790697\n",
            "-------------------------\n",
            "1.0\n",
            "-------------------------\n",
            "1.0\n",
            "-------------------------\n",
            "\n",
            "+++++++++++++++++++++++++++++++\n",
            "\n",
            "0.9853658536585366\n",
            "-------------------------\n",
            "0.8181818181818182\n",
            "-------------------------\n",
            "0.8372093023255814\n",
            "-------------------------\n",
            "1.0\n",
            "-------------------------\n",
            "1.0\n",
            "-------------------------\n",
            "\n",
            "+++++++++++++++++++++++++++++++\n",
            "\n",
            "0.9853658536585366\n",
            "-------------------------\n",
            "0.7878787878787878\n",
            "-------------------------\n",
            "0.8372093023255814\n",
            "-------------------------\n",
            "1.0\n",
            "-------------------------\n",
            "1.0\n",
            "-------------------------\n",
            "\n",
            "+++++++++++++++++++++++++++++++\n",
            "\n"
          ]
        }
      ]
    }
  ]
}